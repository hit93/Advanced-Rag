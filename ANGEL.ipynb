{
  "nbformat": 4,
  "nbformat_minor": 0,
  "metadata": {
    "colab": {
      "provenance": [],
      "authorship_tag": "ABX9TyOwXsgmrk9aRwTDZWA443Nd",
      "include_colab_link": true
    },
    "kernelspec": {
      "name": "python3",
      "display_name": "Python 3"
    },
    "language_info": {
      "name": "python"
    }
  },
  "cells": [
    {
      "cell_type": "markdown",
      "metadata": {
        "id": "view-in-github",
        "colab_type": "text"
      },
      "source": [
        "<a href=\"https://colab.research.google.com/github/hit93/Advanced-Rag/blob/main/ANGEL.ipynb\" target=\"_parent\"><img src=\"https://colab.research.google.com/assets/colab-badge.svg\" alt=\"Open In Colab\"/></a>"
      ]
    },
    {
      "cell_type": "code",
      "source": [
        "!pip install smartapi-python pyotp pytz pandas logzero schedule"
      ],
      "metadata": {
        "colab": {
          "base_uri": "https://localhost:8080/"
        },
        "id": "WQNhkfUWhJH-",
        "outputId": "74be5f3f-c3a5-4945-89a4-81b7c132eda7"
      },
      "execution_count": null,
      "outputs": [
        {
          "output_type": "stream",
          "name": "stdout",
          "text": [
            "Requirement already satisfied: smartapi-python in /usr/local/lib/python3.12/dist-packages (1.5.5)\n",
            "Requirement already satisfied: pyotp in /usr/local/lib/python3.12/dist-packages (2.9.0)\n",
            "Requirement already satisfied: pytz in /usr/local/lib/python3.12/dist-packages (2025.2)\n",
            "Requirement already satisfied: pandas in /usr/local/lib/python3.12/dist-packages (2.2.2)\n",
            "Requirement already satisfied: logzero in /usr/local/lib/python3.12/dist-packages (1.7.0)\n",
            "Requirement already satisfied: schedule in /usr/local/lib/python3.12/dist-packages (1.2.2)\n",
            "Requirement already satisfied: requests>=2.18.4 in /usr/local/lib/python3.12/dist-packages (from smartapi-python) (2.32.4)\n",
            "Requirement already satisfied: six>=1.11.0 in /usr/local/lib/python3.12/dist-packages (from smartapi-python) (1.17.0)\n",
            "Requirement already satisfied: python-dateutil>=2.6.1 in /usr/local/lib/python3.12/dist-packages (from smartapi-python) (2.9.0.post0)\n",
            "Requirement already satisfied: numpy>=1.26.0 in /usr/local/lib/python3.12/dist-packages (from pandas) (2.0.2)\n",
            "Requirement already satisfied: tzdata>=2022.7 in /usr/local/lib/python3.12/dist-packages (from pandas) (2025.2)\n",
            "Requirement already satisfied: charset_normalizer<4,>=2 in /usr/local/lib/python3.12/dist-packages (from requests>=2.18.4->smartapi-python) (3.4.3)\n",
            "Requirement already satisfied: idna<4,>=2.5 in /usr/local/lib/python3.12/dist-packages (from requests>=2.18.4->smartapi-python) (3.10)\n",
            "Requirement already satisfied: urllib3<3,>=1.21.1 in /usr/local/lib/python3.12/dist-packages (from requests>=2.18.4->smartapi-python) (2.5.0)\n",
            "Requirement already satisfied: certifi>=2017.4.17 in /usr/local/lib/python3.12/dist-packages (from requests>=2.18.4->smartapi-python) (2025.8.3)\n"
          ]
        }
      ]
    },
    {
      "cell_type": "code",
      "source": [
        "from SmartApi import SmartConnect\n",
        "import pyotp\n",
        "import time\n",
        "from datetime import datetime, timedelta\n",
        "import pandas as pd\n",
        "import schedule\n",
        "\n",
        "# Your Angel One API credentials and TOTP\n",
        "apikey = 'g3UdaiiP'\n",
        "username = 'H178645'\n",
        "pwd = '4523'\n",
        "token = '7RRJ7OOVZ2APMRGUAJDODBKMIU'\n",
        "exchange = \"NSE\"\n",
        "timeperiod = \"TEN_MINUTE\"\n",
        "\n",
        "# Nifty 50 tokens and symbols dictionary (partial; extend as needed)\n",
        "nifty50_tokens = {\n",
        "    1232: \"GRASIM-EQ\",\n",
        "    1363: \"HINDALCO-EQ\",\n",
        "    # 16675: \"BAJAJFINSV-EQ\",\n",
        "    # 10604: \"BHARTIARTL-EQ\",\n",
        "    # 21808: \"SBILIFE-EQ\",\n",
        "    # 10940: \"DIVISLAB-EQ\",\n",
        "    # 11287: \"UPL-EQ\",\n",
        "    # 11723: \"JSWSTEEL-EQ\",\n",
        "    # 1394: \"HINDUNILVR-EQ\",\n",
        "    # 17963: \"NESTLEIND-EQ\",\n",
        "    # 2475: \"ONGC-EQ\",\n",
        "    # 3563: \"ADANIGREEN-EQ\",\n",
        "    # 3787: \"WIPRO-EQ\",\n",
        "    # 7229: \"HCLTECH-EQ\",\n",
        "    # 3045: \"SBIN-EQ\",\n",
        "    # 3456: \"TATAMOTORS-EQ\",\n",
        "    # 547: \"BRITANNIA-EQ\",\n",
        "    # 694: \"CIPLA-EQ\",\n",
        "    # 2885: \"RELIANCE-EQ\",\n",
        "    # 3103: \"SHREECEM-EQ\",\n",
        "    # 467: \"HDFCLIFE-EQ\",\n",
        "    # 5258: \"INDUSINDBK-EQ\",\n",
        "    # 881: \"DRREDDY-EQ\",\n",
        "    # 910: \"EICHERMOT-EQ\",\n",
        "    # 10999: \"MARUTI-EQ\",\n",
        "    # 11536: \"TCS-EQ\",\n",
        "    # 13538: \"TECHM-EQ\",\n",
        "    # 11532: \"ULTRACEMCO-EQ\",\n",
        "    # 11630: \"NTPC-EQ\",\n",
        "    # 15083: \"ADANIPORTS-EQ\",\n",
        "    # 1922: \"KOTAKBANK-EQ\",\n",
        "    # 20374: \"COALINDIA-EQ\",\n",
        "    # 1333: \"HDFCBANK-EQ\",\n",
        "    # 1348: \"HEROMOTOCO-EQ\",\n",
        "    # 14977: \"POWERGRID-EQ\",\n",
        "    # 1594: \"INFY-EQ\",\n",
        "    # 2031: \"M&M-EQ\",\n",
        "    # 11483: \"LT-EQ\",\n",
        "    # 1624: \"IOC-EQ\",\n",
        "    # 1660: \"ITC-EQ\",\n",
        "    # 3432: \"TATACONSUM-EQ\",\n",
        "    # 3499: \"TATASTEEL-EQ\",\n",
        "    # 4963: \"ICICIBANK-EQ\",\n",
        "    # 5900: \"AXISBANK-EQ\",\n",
        "    # 236: \"ASIANPAINT-EQ\",\n",
        "    # 317: \"BAJFINANCE-EQ\",\n",
        "    # 3506: \"TITAN-EQ\",\n",
        "    # 526: \"BPCL-EQ\"\n",
        "}\n",
        "\n",
        "# Create SmartConnect object\n",
        "obj = SmartConnect(api_key=apikey)\n",
        "\n",
        "def login():\n",
        "    \"\"\"\n",
        "    Login to Angel One SmartAPI and get tokens.\n",
        "    \"\"\"\n",
        "    data = obj.generateSession(username, pwd, pyotp.TOTP(token).now())\n",
        "    auth_token = data['data']['jwtToken']\n",
        "    refresh_token = data['data']['refreshToken']\n",
        "    feed_token = obj.getfeedToken()\n",
        "    print(\"Logged in successfully.\")\n",
        "    return auth_token, feed_token\n",
        "\n",
        "def historical_data(exchange, token, from_date, to_date, interval):\n",
        "    \"\"\"\n",
        "    Fetch historical candle data and return pandas DataFrame.\n",
        "    \"\"\"\n",
        "    try:\n",
        "        historicParam = {\n",
        "            \"exchange\": exchange,\n",
        "            \"symboltoken\": str(token),\n",
        "            \"interval\": interval,\n",
        "            \"fromdate\": from_date,\n",
        "            \"todate\": to_date\n",
        "        }\n",
        "        api_response = obj.getCandleData(historicParam)\n",
        "        data = api_response['data']\n",
        "        columns = ['DateTime', 'Open', 'High', 'Low', 'Close', 'Volume']\n",
        "        df = pd.DataFrame(data, columns=columns)\n",
        "        df['DateTime'] = pd.to_datetime(df['DateTime'])\n",
        "        df.set_index('DateTime', inplace=True)\n",
        "        print(f\"Fetched data for token {token} ({nifty50_tokens[token]}) with {len(df)} records.\")\n",
        "        return df\n",
        "    except Exception as e:\n",
        "        print(f\"Error fetching data for token {token}: {e}\")\n",
        "        return pd.DataFrame()  # Return empty DataFrame on failure\n",
        "\n",
        "def fetch_data():\n",
        "    \"\"\"\n",
        "    Login and fetch historical data for all Nifty 50 tokens.\n",
        "    Store each stock's DataFrame in a dict.\n",
        "    \"\"\"\n",
        "    auth_token, feed_token = login()\n",
        "    thirty_days_ago = datetime.now() - timedelta(days=30)\n",
        "    from_date = thirty_days_ago.strftime(\"%Y-%m-%d %H:%M\")\n",
        "    to_date = datetime.now().strftime(\"%Y-%m-%d %H:%M\")\n",
        "\n",
        "    stock_data = {}\n",
        "    for token, symbol in nifty50_tokens.items():\n",
        "      df = historical_data(exchange, token, from_date, to_date, timeperiod)\n",
        "      if df is not None and not df.empty:\n",
        "          stock_data[symbol] = df  # Use symbol as key\n",
        "\n",
        "\n",
        "    print(f\"Fetched historical data for {len(stock_data)} Nifty 50 stocks.\")\n",
        "    return stock_data\n",
        "\n",
        "def job():\n",
        "    print(f\"Job started at {datetime.now()}\")\n",
        "    data = fetch_data()\n",
        "\n",
        "    # You can extend here by adding indicator calculations and signal generation\n",
        "    print(f\"Job completed at {datetime.now()}\")\n",
        "    print(data['GRASIM-EQ'])\n",
        "if __name__ == \"__main__\":\n",
        "    print(\"Starting scheduler to fetch data every 1 minute...\")\n",
        "    schedule.every(1).minutes.do(job)\n",
        "\n",
        "    while True:\n",
        "        schedule.run_pending()\n",
        "        time.sleep(1)\n"
      ],
      "metadata": {
        "colab": {
          "base_uri": "https://localhost:8080/",
          "height": 939
        },
        "id": "eK6uK1JvpuIv",
        "outputId": "fbfd3243-8866-491d-c7fb-1722e0cbdd90"
      },
      "execution_count": null,
      "outputs": [
        {
          "output_type": "stream",
          "name": "stderr",
          "text": [
            "[I 250927 10:55:30 smartConnect:124] in pool\n"
          ]
        },
        {
          "output_type": "stream",
          "name": "stdout",
          "text": [
            "Starting scheduler to fetch data every 1 minute...\n",
            "Job started at 2025-09-27 10:56:30.471319\n",
            "Logged in successfully.\n",
            "Fetched data for token 1232 (GRASIM-EQ) with 828 records.\n",
            "Fetched data for token 1363 (HINDALCO-EQ) with 828 records.\n",
            "Fetched historical data for 2 Nifty 50 stocks.\n",
            "Job completed at 2025-09-27 10:56:33.532759\n",
            "                             Open    High     Low   Close  Volume\n",
            "DateTime                                                         \n",
            "2025-08-28 11:05:00+05:30  2784.6  2792.0  2783.8  2791.3   45381\n",
            "2025-08-28 11:15:00+05:30  2791.3  2794.3  2790.0  2793.2    4592\n",
            "2025-08-28 11:25:00+05:30  2793.5  2801.8  2791.5  2801.5    8168\n",
            "2025-08-28 11:35:00+05:30  2801.5  2805.9  2800.0  2805.9    8155\n",
            "2025-08-28 11:45:00+05:30  2805.7  2806.0  2802.5  2804.0   10885\n",
            "...                           ...     ...     ...     ...     ...\n",
            "2025-09-26 15:15:00+05:30  2746.6  2751.4  2745.0  2745.0   46593\n",
            "2025-09-26 15:25:00+05:30  2745.2  2746.9  2739.1  2745.0   41523\n",
            "2025-09-27 10:05:00+05:30  2774.3  2774.3  2774.3  2774.3     200\n",
            "2025-09-27 10:15:00+05:30  2774.3  3021.4  2774.3  3021.4    3100\n",
            "2025-09-27 10:25:00+05:30  3021.4  3021.4  2774.3  2774.3   42100\n",
            "\n",
            "[828 rows x 5 columns]\n",
            "Job started at 2025-09-27 10:57:33.552409\n",
            "Logged in successfully.\n",
            "Fetched data for token 1232 (GRASIM-EQ) with 828 records.\n",
            "Fetched data for token 1363 (HINDALCO-EQ) with 828 records.\n",
            "Fetched historical data for 2 Nifty 50 stocks.\n",
            "Job completed at 2025-09-27 10:57:36.712227\n",
            "                             Open    High     Low   Close  Volume\n",
            "DateTime                                                         \n",
            "2025-08-28 11:05:00+05:30  2784.6  2792.0  2783.8  2791.3   45381\n",
            "2025-08-28 11:15:00+05:30  2791.3  2794.3  2790.0  2793.2    4592\n",
            "2025-08-28 11:25:00+05:30  2793.5  2801.8  2791.5  2801.5    8168\n",
            "2025-08-28 11:35:00+05:30  2801.5  2805.9  2800.0  2805.9    8155\n",
            "2025-08-28 11:45:00+05:30  2805.7  2806.0  2802.5  2804.0   10885\n",
            "...                           ...     ...     ...     ...     ...\n",
            "2025-09-26 15:15:00+05:30  2746.6  2751.4  2745.0  2745.0   46593\n",
            "2025-09-26 15:25:00+05:30  2745.2  2746.9  2739.1  2745.0   41523\n",
            "2025-09-27 10:05:00+05:30  2774.3  2774.3  2774.3  2774.3     200\n",
            "2025-09-27 10:15:00+05:30  2774.3  3021.4  2774.3  3021.4    3100\n",
            "2025-09-27 10:25:00+05:30  3021.4  3021.4  2774.3  2774.3   42100\n",
            "\n",
            "[828 rows x 5 columns]\n"
          ]
        },
        {
          "output_type": "error",
          "ename": "KeyboardInterrupt",
          "evalue": "",
          "traceback": [
            "\u001b[0;31m---------------------------------------------------------------------------\u001b[0m",
            "\u001b[0;31mKeyboardInterrupt\u001b[0m                         Traceback (most recent call last)",
            "\u001b[0;32m/tmp/ipython-input-4289360695.py\u001b[0m in \u001b[0;36m<cell line: 0>\u001b[0;34m()\u001b[0m\n\u001b[1;32m    138\u001b[0m     \u001b[0;32mwhile\u001b[0m \u001b[0;32mTrue\u001b[0m\u001b[0;34m:\u001b[0m\u001b[0;34m\u001b[0m\u001b[0;34m\u001b[0m\u001b[0m\n\u001b[1;32m    139\u001b[0m         \u001b[0mschedule\u001b[0m\u001b[0;34m.\u001b[0m\u001b[0mrun_pending\u001b[0m\u001b[0;34m(\u001b[0m\u001b[0;34m)\u001b[0m\u001b[0;34m\u001b[0m\u001b[0;34m\u001b[0m\u001b[0m\n\u001b[0;32m--> 140\u001b[0;31m         \u001b[0mtime\u001b[0m\u001b[0;34m.\u001b[0m\u001b[0msleep\u001b[0m\u001b[0;34m(\u001b[0m\u001b[0;36m1\u001b[0m\u001b[0;34m)\u001b[0m\u001b[0;34m\u001b[0m\u001b[0;34m\u001b[0m\u001b[0m\n\u001b[0m",
            "\u001b[0;31mKeyboardInterrupt\u001b[0m: "
          ]
        }
      ]
    },
    {
      "cell_type": "code",
      "source": [],
      "metadata": {
        "id": "cHb2z80NwHn7"
      },
      "execution_count": null,
      "outputs": []
    }
  ]
}